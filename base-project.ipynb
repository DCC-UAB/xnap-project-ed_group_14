{
 "cells": [
  {
   "cell_type": "code",
<<<<<<< HEAD
   "execution_count": null,
=======
   "execution_count": 6,
>>>>>>> 1d31dc17c075dc0885d6b6ecce9c080224c02c59
   "metadata": {},
   "outputs": [],
   "source": [
    "import re\n",
    "import random\n",
    "\n",
    "import numpy as np\n",
    "import tensorflow as tf\n",
    "import matplotlib.pyplot as plt\n",
    "\n",
    "from tensorflow import keras\n",
    "from time import time\n",
    "\n",
    "from tqdm import tqdm # progress bar\n",
    "from sklearn.model_selection import train_test_split # Dividing train test\n",
    "from nltk.translate.bleu_score import corpus_bleu # BLEU Score"
   ]
  },
  {
   "cell_type": "code",
<<<<<<< HEAD
   "execution_count": null,
   "metadata": {},
   "outputs": [],
   "source": [
    "# import tensorflow.compat.v1 as tf \n",
    "\n",
    "# tf.enable_eager_execution(tf.ConfigProto(log_device_placement=True)) \n",
    "# habilita l'execució ansiosa(eager execution) en Tensorflow i mostra el registre d'ubicacio de dispositius.\n",
    "# l'execicio ansiosa es ina forma d'execucio de gràfics que permet una interaccio mes interactiva amb el model i un fluxe de treball mes similar a la programacio interactiva.\n",
    "# Els calculs es realitzen inmediatament i els resultat es retornen de inmediat\n",
    "# el argument aquest tf.ConfigProto(log_device_placement=True) es opcional i s'utilitza per imprimir un registre que indica en quin dispositiu s'executa cada operacio en Tensorflow --> optimitza rendiment i compren millor com sulitza la capacitat de processament del hardware\n",
    "\n",
    "# print(tf.add([1.0, 2.0], [3.0, 4.0]))"
=======
   "execution_count": 5,
   "metadata": {},
   "outputs": [
    {
     "name": "stdout",
     "output_type": "stream",
     "text": [
      "Executing op Add in device /job:localhost/replica:0/task:0/device:DML:0\n",
      "tf.Tensor([4. 6.], shape=(2,), dtype=float32)\n"
     ]
    }
   ],
   "source": [
    "import tensorflow.compat.v1 as tf \n",
    "\n",
    "tf.enable_eager_execution(tf.ConfigProto(log_device_placement=True)) \n",
    "\n",
    "print(tf.add([1.0, 2.0], [3.0, 4.0]))"
>>>>>>> 1d31dc17c075dc0885d6b6ecce9c080224c02c59
   ]
  },
  {
   "cell_type": "code",
<<<<<<< HEAD
   "execution_count": null,
   "metadata": {},
   "outputs": [],
   "source": [
    "dataset_path = \"data\" # es el path\n",
    "dataset_images_path = dataset_path + \"/Images/\"  # path de imatges"
=======
   "execution_count": 8,
   "metadata": {},
   "outputs": [],
   "source": [
    "dataset_path = \"data\"\n",
    "dataset_images_path = dataset_path + \"/Images/\" "
>>>>>>> 1d31dc17c075dc0885d6b6ecce9c080224c02c59
   ]
  },
  {
   "cell_type": "code",
<<<<<<< HEAD
   "execution_count": null,
   "metadata": {},
   "outputs": [],
   "source": [
    "img_height = 180 # altura\n",
    "img_width = 180 # amplada\n",
    "validation_split = 0.2 # 80% entrenament 20% validacio"
=======
   "execution_count": 7,
   "metadata": {},
   "outputs": [],
   "source": [
    "img_height = 180\n",
    "img_width = 180\n",
    "validation_split = 0.2"
>>>>>>> 1d31dc17c075dc0885d6b6ecce9c080224c02c59
   ]
  },
  {
   "cell_type": "code",
<<<<<<< HEAD
   "execution_count": null,
=======
   "execution_count": 10,
>>>>>>> 1d31dc17c075dc0885d6b6ecce9c080224c02c59
   "metadata": {},
   "outputs": [],
   "source": [
    "# Remove the last layer of the Inception V3 model\n",
    "def get_encoder():\n",
<<<<<<< HEAD
    "    image_model = tf.keras.applications.InceptionV3(include_top=False, weights='imagenet') \n",
    "    # crea una instancia de l'arquitectura de red neuronal convolucional preentrenada en el conjunt de dades imagenet\n",
=======
    "    image_model = tf.keras.applications.InceptionV3(include_top=False, weights='imagenet')\n",
>>>>>>> 1d31dc17c075dc0885d6b6ecce9c080224c02c59
    "    new_input = image_model.input\n",
    "    hidden_layer = image_model.layers[-1].output\n",
    "\n",
    "    image_features_extract_model = tf.keras.Model(new_input, hidden_layer)\n",
<<<<<<< HEAD
    "    # creacio del model amb el nou input i hidden\n",
=======
>>>>>>> 1d31dc17c075dc0885d6b6ecce9c080224c02c59
    "    return image_features_extract_model\n",
    "\n",
    "# Preprocess the caption, splitting the string and adding <start> and <end> tokens\n",
    "def get_preprocessed_caption(caption):    \n",
<<<<<<< HEAD
    "    caption = re.sub(r'\\s+', ' ', caption) #reemplaza totes les sequencies de un o mes espais en blanc per un sol espai\n",
    "    caption = caption.strip() #elimina els caracters en blanc\n",
    "    caption = \"<start> \" + caption + \" <end>\" # agrega el start i el end al caption\n",
=======
    "    caption = re.sub(r'\\s+', ' ', caption)\n",
    "    caption = caption.strip()\n",
    "    caption = \"<start> \" + caption + \" <end>\"\n",
>>>>>>> 1d31dc17c075dc0885d6b6ecce9c080224c02c59
    "    return caption"
   ]
  },
  {
   "cell_type": "code",
<<<<<<< HEAD
   "execution_count": null,
   "metadata": {},
   "outputs": [],
   "source": [
    "images_captions_dict = {} # creem diccionari\n",
    "\n",
    "with open(dataset_path + \"/captions.txt\", \"r\") as dataset_info: #obrim dataset\n",
    "    next(dataset_info) # Omit header: image, caption\n",
    "\n",
    "    # Using a subset of 4,000 entries out of 40,000\n",
    "    for info_raw in list(dataset_info)[:4000]: # itera a través dels primers 4000 element del dataset\n",
    "        info = info_raw.split(\",\") # divideix la cadena en una llista de subcadenes utilitzant la coma com delimitador\n",
    "        image_filename = info[0] # el nom del fitxer esta a la posicio 1\n",
    "        caption = get_preprocessed_caption(info[1]) # processem el que hi ha en la posicio 2 de la subcadena\n",
    "\n",
    "        if image_filename not in images_captions_dict.keys(): # si el nom del fitxer no esta dintre del diccionari\n",
    "            images_captions_dict[image_filename] = [caption] # l'afegim amb el value processat\n",
    "        else: # si ja esta en el diccionari\n",
    "            images_captions_dict[image_filename].append(caption) # afegim el value processat a la key"
=======
   "execution_count": 11,
   "metadata": {},
   "outputs": [],
   "source": [
    "images_captions_dict = {}\n",
    "\n",
    "with open(dataset_path + \"/captions.txt\", \"r\") as dataset_info:\n",
    "    next(dataset_info) # Omit header: image, caption\n",
    "\n",
    "    # Using a subset of 4,000 entries out of 40,000\n",
    "    for info_raw in list(dataset_info)[:4000]:\n",
    "        info = info_raw.split(\",\")\n",
    "        image_filename = info[0]\n",
    "        caption = get_preprocessed_caption(info[1])\n",
    "\n",
    "        if image_filename not in images_captions_dict.keys():\n",
    "            images_captions_dict[image_filename] = [caption]\n",
    "        else:\n",
    "            images_captions_dict[image_filename].append(caption)"
>>>>>>> 1d31dc17c075dc0885d6b6ecce9c080224c02c59
   ]
  },
  {
   "cell_type": "code",
<<<<<<< HEAD
   "execution_count": null,
   "metadata": {},
   "outputs": [],
   "source": [
    "#Carregar una imatge\n",
    "def load_image(image_path):\n",
    "    img = tf.io.read_file(dataset_images_path + image_path)#llegir el fitxer que es troba en aquell path\n",
    "    img = tf.image.decode_jpeg(img, channels=3) #decodificat una imatge JPEG codificada en una cadena binaria i retorna una representacio de tensor de la imatge decodificada\n",
    "    img = tf.image.resize(img, (img_height, img_width)) # redimensionem la imatge amb la altura i amplada que volem\n",
=======
   "execution_count": 12,
   "metadata": {},
   "outputs": [],
   "source": [
    "def load_image(image_path):\n",
    "    img = tf.io.read_file(dataset_images_path + image_path)\n",
    "    img = tf.image.decode_jpeg(img, channels=3)\n",
    "    img = tf.image.resize(img, (img_height, img_width))\n",
>>>>>>> 1d31dc17c075dc0885d6b6ecce9c080224c02c59
    "    img = tf.keras.applications.inception_v3.preprocess_input(img) # preprocessing needed for pre-trained model\n",
    "    return img, image_path"
   ]
  },
  {
   "cell_type": "code",
<<<<<<< HEAD
   "execution_count": null,
   "metadata": {},
   "outputs": [],
   "source": [
    "\n",
    "image_captions_dict_keys = list(images_captions_dict.keys()) # les imatges que tenim\n",
    "image_dataset = tf.data.Dataset.from_tensor_slices(image_captions_dict_keys) #crea un objecte de conjunt de TensorFlow a partir de un Tensor d'entrada.\n",
    "image_dataset = image_dataset.map(load_image, num_parallel_calls=tf.data.experimental.AUTOTUNE).batch(64) #operacio de preprocessament d'un conjunt de dades que carrega i decodifica imatges en paralel i les agrrupa en subatchts de 64."
=======
   "execution_count": 13,
   "metadata": {},
   "outputs": [
    {
     "name": "stdout",
     "output_type": "stream",
     "text": [
      "Executing op TensorSliceDataset in device /job:localhost/replica:0/task:0/device:CPU:0\n",
      "Executing op ParallelMapDataset in device /job:localhost/replica:0/task:0/device:CPU:0\n",
      "Executing op BatchDatasetV2 in device /job:localhost/replica:0/task:0/device:CPU:0\n"
     ]
    }
   ],
   "source": [
    "\n",
    "image_captions_dict_keys = list(images_captions_dict.keys())\n",
    "image_dataset = tf.data.Dataset.from_tensor_slices(image_captions_dict_keys)\n",
    "image_dataset = image_dataset.map(load_image, num_parallel_calls=tf.data.experimental.AUTOTUNE).batch(64)"
>>>>>>> 1d31dc17c075dc0885d6b6ecce9c080224c02c59
   ]
  },
  {
   "cell_type": "code",
<<<<<<< HEAD
   "execution_count": null,
   "metadata": {},
   "outputs": [],
   "source": [
    "images_dict = {} #diccionari buit\n",
    "encoder = get_encoder() # model\n",
    "for img_tensor, path_tensor in tqdm(image_dataset): #es un bucle d'un conjunt de dades de TensorFlow que conte tensors de imatge i rutes d'arxiu, el tqdm() es una fucnio per proporcionar una barra de progress en temps real mentres s'itera.\n",
    "    batch_features_tensor = encoder(img_tensor) #retorna la imatge codificada\n",
    "    \n",
    "    # Loop over batch to save each element in images_dict\n",
    "    for batch_features, path in zip(batch_features_tensor, path_tensor):\n",
    "        decoded_path = path.numpy().decode(\"utf-8\") #tensor de cadena de bytes --> cadena de caracters de Python\n",
    "        images_dict[decoded_path] = batch_features.numpy() #tensorflow --> array python"
=======
   "execution_count": 14,
   "metadata": {},
   "outputs": [
    {
     "name": "stdout",
     "output_type": "stream",
     "text": [
      "Executing op RandomUniform in device /job:localhost/replica:0/task:0/device:DML:0\n",
      "Executing op Sub in device /job:localhost/replica:0/task:0/device:DML:0\n",
      "Executing op Mul in device /job:localhost/replica:0/task:0/device:DML:0\n",
      "Executing op Add in device /job:localhost/replica:0/task:0/device:DML:0\n",
      "Executing op VarHandleOp in device /job:localhost/replica:0/task:0/device:DML:0\n",
      "Executing op VarIsInitializedOp in device /job:localhost/replica:0/task:0/device:DML:0\n",
      "Executing op LogicalNot in device /job:localhost/replica:0/task:0/device:DML:0\n",
      "Executing op Assert in device /job:localhost/replica:0/task:0/device:DML:0\n",
      "Executing op AssignVariableOp in device /job:localhost/replica:0/task:0/device:DML:0\n",
      "Executing op Fill in device /job:localhost/replica:0/task:0/device:DML:0\n",
      "Executing op VarHandleOp in device /job:localhost/replica:0/task:0/device:DML:0\n",
      "Executing op VarHandleOp in device /job:localhost/replica:0/task:0/device:DML:0\n",
      "Executing op VarHandleOp in device /job:localhost/replica:0/task:0/device:DML:0\n",
      "Executing op VarHandleOp in device /job:localhost/replica:0/task:0/device:DML:0\n",
      "Executing op VarHandleOp in device /job:localhost/replica:0/task:0/device:DML:0\n",
      "Executing op VarHandleOp in device /job:localhost/replica:0/task:0/device:DML:0\n",
      "Executing op VarHandleOp in device /job:localhost/replica:0/task:0/device:DML:0\n",
      "Executing op VarHandleOp in device /job:localhost/replica:0/task:0/device:DML:0\n",
      "Executing op VarHandleOp in device /job:localhost/replica:0/task:0/device:DML:0\n",
      "Executing op VarHandleOp in device /job:localhost/replica:0/task:0/device:DML:0\n",
      "Executing op VarHandleOp in device /job:localhost/replica:0/task:0/device:DML:0\n",
      "Executing op VarHandleOp in device /job:localhost/replica:0/task:0/device:DML:0\n",
      "Executing op VarHandleOp in device /job:localhost/replica:0/task:0/device:DML:0\n",
      "Executing op VarHandleOp in device /job:localhost/replica:0/task:0/device:DML:0\n",
      "Executing op VarHandleOp in device /job:localhost/replica:0/task:0/device:DML:0\n",
      "Executing op VarHandleOp in device /job:localhost/replica:0/task:0/device:DML:0\n",
      "Executing op VarHandleOp in device /job:localhost/replica:0/task:0/device:DML:0\n",
      "Executing op VarHandleOp in device /job:localhost/replica:0/task:0/device:DML:0\n",
      "Executing op VarHandleOp in device /job:localhost/replica:0/task:0/device:DML:0\n",
      "Executing op VarHandleOp in device /job:localhost/replica:0/task:0/device:DML:0\n",
      "Executing op VarHandleOp in device /job:localhost/replica:0/task:0/device:DML:0\n",
      "Executing op VarHandleOp in device /job:localhost/replica:0/task:0/device:DML:0\n",
      "Executing op VarHandleOp in device /job:localhost/replica:0/task:0/device:DML:0\n",
      "Executing op VarHandleOp in device /job:localhost/replica:0/task:0/device:DML:0\n",
      "Executing op VarHandleOp in device /job:localhost/replica:0/task:0/device:DML:0\n",
      "Executing op VarHandleOp in device /job:localhost/replica:0/task:0/device:DML:0\n",
      "Executing op VarHandleOp in device /job:localhost/replica:0/task:0/device:DML:0\n",
      "Executing op VarHandleOp in device /job:localhost/replica:0/task:0/device:DML:0\n",
      "Executing op VarHandleOp in device /job:localhost/replica:0/task:0/device:DML:0\n",
      "Executing op VarHandleOp in device /job:localhost/replica:0/task:0/device:DML:0\n",
      "Executing op VarHandleOp in device /job:localhost/replica:0/task:0/device:DML:0\n",
      "Executing op VarHandleOp in device /job:localhost/replica:0/task:0/device:DML:0\n",
      "Executing op VarHandleOp in device /job:localhost/replica:0/task:0/device:DML:0\n",
      "Executing op VarHandleOp in device /job:localhost/replica:0/task:0/device:DML:0\n",
      "Executing op VarHandleOp in device /job:localhost/replica:0/task:0/device:DML:0\n",
      "Executing op VarHandleOp in device /job:localhost/replica:0/task:0/device:DML:0\n",
      "Executing op VarHandleOp in device /job:localhost/replica:0/task:0/device:DML:0\n",
      "Executing op VarHandleOp in device /job:localhost/replica:0/task:0/device:DML:0\n",
      "Executing op VarHandleOp in device /job:localhost/replica:0/task:0/device:DML:0\n",
      "Executing op VarHandleOp in device /job:localhost/replica:0/task:0/device:DML:0\n",
      "Executing op VarHandleOp in device /job:localhost/replica:0/task:0/device:DML:0\n",
      "Executing op VarHandleOp in device /job:localhost/replica:0/task:0/device:DML:0\n",
      "Executing op VarHandleOp in device /job:localhost/replica:0/task:0/device:DML:0\n",
      "Executing op VarHandleOp in device /job:localhost/replica:0/task:0/device:DML:0\n",
      "Executing op VarHandleOp in device /job:localhost/replica:0/task:0/device:DML:0\n",
      "Executing op VarHandleOp in device /job:localhost/replica:0/task:0/device:DML:0\n",
      "Executing op VarHandleOp in device /job:localhost/replica:0/task:0/device:DML:0\n",
      "Executing op VarHandleOp in device /job:localhost/replica:0/task:0/device:DML:0\n",
      "Executing op VarHandleOp in device /job:localhost/replica:0/task:0/device:DML:0\n",
      "Executing op VarHandleOp in device /job:localhost/replica:0/task:0/device:DML:0\n",
      "Executing op VarHandleOp in device /job:localhost/replica:0/task:0/device:DML:0\n",
      "Executing op VarHandleOp in device /job:localhost/replica:0/task:0/device:DML:0\n",
      "Downloading data from https://github.com/fchollet/deep-learning-models/releases/download/v0.5/inception_v3_weights_tf_dim_ordering_tf_kernels_notop.h5\n",
      "87916544/87910968 [==============================] - 4s 0us/step\n"
     ]
    },
    {
     "name": "stderr",
     "output_type": "stream",
     "text": [
      "0it [00:00, ?it/s]"
     ]
    },
    {
     "name": "stdout",
     "output_type": "stream",
     "text": [
      "Executing op OptimizeDataset in device /job:localhost/replica:0/task:0/device:CPU:0\n",
      "Executing op ModelDataset in device /job:localhost/replica:0/task:0/device:CPU:0\n",
      "Executing op AnonymousIteratorV2 in device /job:localhost/replica:0/task:0/device:CPU:0\n",
      "Executing op MakeIterator in device /job:localhost/replica:0/task:0/device:CPU:0\n",
      "Executing op IteratorGetNextSync in device /job:localhost/replica:0/task:0/device:CPU:0\n",
      "Executing op ReadVariableOp in device /job:localhost/replica:0/task:0/device:DML:0\n",
      "Executing op Conv2D in device /job:localhost/replica:0/task:0/device:DML:0\n",
      "Executing op FusedBatchNormV3 in device /job:localhost/replica:0/task:0/device:DML:0\n",
      "Executing op Relu in device /job:localhost/replica:0/task:0/device:DML:0\n",
      "Executing op Conv2D in device /job:localhost/replica:0/task:0/device:DML:0\n",
      "Executing op Conv2D in device /job:localhost/replica:0/task:0/device:DML:0\n",
      "Executing op MaxPool in device /job:localhost/replica:0/task:0/device:DML:0\n",
      "Executing op AvgPool in device /job:localhost/replica:0/task:0/device:DML:0\n",
      "Executing op ConcatV2 in device /job:localhost/replica:0/task:0/device:DML:0\n",
      "Executing op ConcatV2 in device /job:localhost/replica:0/task:0/device:DML:0\n",
      "Executing op ConcatV2 in device /job:localhost/replica:0/task:0/device:DML:0\n",
      "Executing op StridedSlice in device /job:localhost/replica:0/task:0/device:DML:0\n",
      "Executing op StridedSlice in device /job:localhost/replica:0/task:0/device:CPU:0\n"
     ]
    },
    {
     "name": "stderr",
     "output_type": "stream",
     "text": [
      "13it [00:05,  3.60it/s]"
     ]
    },
    {
     "name": "stdout",
     "output_type": "stream",
     "text": [
      "Executing op DeleteIterator in device /job:localhost/replica:0/task:0/device:CPU:0\n"
     ]
    },
    {
     "name": "stderr",
     "output_type": "stream",
     "text": [
      "13it [00:05,  2.42it/s]\n"
     ]
    }
   ],
   "source": [
    "images_dict = {}\n",
    "encoder = get_encoder()\n",
    "for img_tensor, path_tensor in tqdm(image_dataset):\n",
    "    batch_features_tensor = encoder(img_tensor)\n",
    "    \n",
    "    # Loop over batch to save each element in images_dict\n",
    "    for batch_features, path in zip(batch_features_tensor, path_tensor):\n",
    "        decoded_path = path.numpy().decode(\"utf-8\")\n",
    "        images_dict[decoded_path] = batch_features.numpy()"
>>>>>>> 1d31dc17c075dc0885d6b6ecce9c080224c02c59
   ]
  },
  {
   "cell_type": "code",
<<<<<<< HEAD
   "execution_count": null,
   "metadata": {},
   "outputs": [],
   "source": [
    "list(images_dict.items())[0][1].shape # retorna la forma del tensor de la imatge"
=======
   "execution_count": 15,
   "metadata": {},
   "outputs": [
    {
     "data": {
      "text/plain": [
       "(4, 4, 2048)"
      ]
     },
     "execution_count": 15,
     "metadata": {},
     "output_type": "execute_result"
    }
   ],
   "source": [
    "list(images_dict.items())[0][1].shape"
>>>>>>> 1d31dc17c075dc0885d6b6ecce9c080224c02c59
   ]
  },
  {
   "cell_type": "code",
<<<<<<< HEAD
   "execution_count": null,
   "metadata": {},
   "outputs": [],
   "source": [
    "plt.imshow(load_image('1000268201_693b08cb0e.jpg')[0].numpy()) #mostra una imatge"
=======
   "execution_count": 16,
   "metadata": {},
   "outputs": [
    {
     "name": "stdout",
     "output_type": "stream",
     "text": [
      "Executing op ReadFile in device /job:localhost/replica:0/task:0/device:CPU:0\n",
      "Executing op DecodeJpeg in device /job:localhost/replica:0/task:0/device:CPU:0\n",
      "Executing op ExpandDims in device /job:localhost/replica:0/task:0/device:DML:0\n",
      "Executing op ResizeBilinear in device /job:localhost/replica:0/task:0/device:CPU:0\n",
      "Executing op Squeeze in device /job:localhost/replica:0/task:0/device:DML:0\n",
      "Executing op RealDiv in device /job:localhost/replica:0/task:0/device:DML:0\n"
     ]
    },
    {
     "name": "stderr",
     "output_type": "stream",
     "text": [
      "Clipping input data to the valid range for imshow with RGB data ([0..1] for floats or [0..255] for integers).\n"
     ]
    },
    {
     "data": {
      "text/plain": [
       "<matplotlib.image.AxesImage at 0x7f52700732b0>"
      ]
     },
     "execution_count": 16,
     "metadata": {},
     "output_type": "execute_result"
    },
    {
     "data": {
      "image/png": "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",
      "text/plain": [
       "<Figure size 432x288 with 1 Axes>"
      ]
     },
     "metadata": {
      "needs_background": "light"
     },
     "output_type": "display_data"
    }
   ],
   "source": [
    "plt.imshow(load_image('1000268201_693b08cb0e.jpg')[0].numpy())"
>>>>>>> 1d31dc17c075dc0885d6b6ecce9c080224c02c59
   ]
  },
  {
   "cell_type": "code",
<<<<<<< HEAD
   "execution_count": null,
   "metadata": {},
   "outputs": [],
   "source": [
    "# obtenir les labels\n",
    "def get_images_labels(image_filenames):\n",
    "    images = [] #llista de imatges\n",
    "    labels = [] #llista de labels\n",
    "    \n",
    "    for image_filename in image_filenames: # per cada imatge\n",
    "        image = images_dict[image_filename] #agafar el seu value\n",
    "        captions = images_captions_dict[image_filename] #agafar la seva caption\n",
    "\n",
    "        # Add one instance per caption\n",
    "        for caption in captions: #si hi ha mes de una caption afegirles totes\n",
=======
   "execution_count": 17,
   "metadata": {},
   "outputs": [],
   "source": [
    "def get_images_labels(image_filenames):\n",
    "    images = []\n",
    "    labels = []\n",
    "    \n",
    "    for image_filename in image_filenames:\n",
    "        image = images_dict[image_filename]\n",
    "        captions = images_captions_dict[image_filename]\n",
    "\n",
    "        # Add one instance per caption\n",
    "        for caption in captions:\n",
>>>>>>> 1d31dc17c075dc0885d6b6ecce9c080224c02c59
    "            images.append(image)\n",
    "            labels.append(caption)\n",
    "            \n",
    "    return images, labels"
   ]
  },
  {
   "cell_type": "code",
<<<<<<< HEAD
   "execution_count": null,
   "metadata": {},
   "outputs": [],
   "source": [
    "image_filenames = list(images_captions_dict.keys()) # totes les imatges que hi ha a images_caption_dict\n",
    "image_filenames_train, image_filenames_test = \\\n",
    "    train_test_split(image_filenames, test_size=validation_split, random_state=1) # fer el split entre train i test\n",
    "\n",
    "X_train, y_train_raw = get_images_labels(image_filenames_train) #agafar les labels de train\n",
    "X_test, y_test_raw = get_images_labels(image_filenames_test)#agafar les labels de test"
=======
   "execution_count": 18,
   "metadata": {},
   "outputs": [],
   "source": [
    "image_filenames = list(images_captions_dict.keys())\n",
    "image_filenames_train, image_filenames_test = \\\n",
    "    train_test_split(image_filenames, test_size=validation_split, random_state=1)\n",
    "\n",
    "X_train, y_train_raw = get_images_labels(image_filenames_train)\n",
    "X_test, y_test_raw = get_images_labels(image_filenames_test)"
>>>>>>> 1d31dc17c075dc0885d6b6ecce9c080224c02c59
   ]
  },
  {
   "cell_type": "code",
<<<<<<< HEAD
   "execution_count": null,
   "metadata": {},
   "outputs": [],
=======
   "execution_count": 19,
   "metadata": {},
   "outputs": [
    {
     "data": {
      "text/plain": [
       "(3200, 3200, 800, 800)"
      ]
     },
     "execution_count": 19,
     "metadata": {},
     "output_type": "execute_result"
    }
   ],
>>>>>>> 1d31dc17c075dc0885d6b6ecce9c080224c02c59
   "source": [
    "# Per image 5 captions and 0.2 test split\n",
    "len(X_train), len(y_train_raw), len(X_test), len(y_test_raw)"
   ]
  },
  {
   "cell_type": "code",
<<<<<<< HEAD
   "execution_count": null,
=======
   "execution_count": 20,
>>>>>>> 1d31dc17c075dc0885d6b6ecce9c080224c02c59
   "metadata": {},
   "outputs": [],
   "source": [
    "\n",
    "top_k = 5000 # Take maximum of words out of 7600\n",
    "tokenizer = tf.keras.preprocessing.text.Tokenizer(num_words=top_k,\n",
    "                                                  oov_token=\"<unk>\",\n",
<<<<<<< HEAD
    "                                                  filters='!\"#$%&()*+.,-/:;=?@[\\]^_`{|}~ ') # s'utilitza per vectoritzar text i convertirlo en sequencia de numeros\n",
=======
    "                                                  filters='!\"#$%&()*+.,-/:;=?@[\\]^_`{|}~ ')\n",
>>>>>>> 1d31dc17c075dc0885d6b6ecce9c080224c02c59
    "\n",
    "# Generate vocabulary from train captions\n",
    "tokenizer.fit_on_texts(y_train_raw)\n",
    "\n",
    "# Introduce padding to make the captions of the same size for the LSTM model\n",
    "tokenizer.word_index['<pad>'] = 0\n",
    "tokenizer.index_word[0] = '<pad>'\n",
    "\n",
    "# Create the tokenized vectors\n",
    "y_train = tokenizer.texts_to_sequences(y_train_raw)\n",
    "\n",
    "# Add padding to each vector to the max_length of the captions (automatically done)\n",
    "y_train = tf.keras.preprocessing.sequence.pad_sequences(y_train, padding='post')"
   ]
  },
  {
   "cell_type": "code",
<<<<<<< HEAD
   "execution_count": null,
   "metadata": {},
   "outputs": [],
   "source": [
    "max_caption_length = max(len(t) for t in y_train) #agafar la longitud maxima de les etiquetes de entrenament\n",
=======
   "execution_count": 21,
   "metadata": {},
   "outputs": [
    {
     "name": "stdout",
     "output_type": "stream",
     "text": [
      "35\n"
     ]
    }
   ],
   "source": [
    "max_caption_length = max(len(t) for t in y_train)\n",
>>>>>>> 1d31dc17c075dc0885d6b6ecce9c080224c02c59
    "print(max_caption_length)"
   ]
  },
  {
   "cell_type": "code",
<<<<<<< HEAD
   "execution_count": null,
   "metadata": {},
   "outputs": [],
   "source": [
    "[tokenizer.index_word[i] for i in y_train[1]] # convertir una etiqueta de una llista en una llista de paraules utilitzant un objecte tokenizer."
=======
   "execution_count": 22,
   "metadata": {},
   "outputs": [
    {
     "data": {
      "text/plain": [
       "['<start>',\n",
       " 'a',\n",
       " 'black',\n",
       " 'dog',\n",
       " 'is',\n",
       " 'standing',\n",
       " 'on',\n",
       " 'a',\n",
       " 'step',\n",
       " 'next',\n",
       " 'to',\n",
       " 'a',\n",
       " 'river',\n",
       " 'at',\n",
       " 'it',\n",
       " 'shakes',\n",
       " 'itself',\n",
       " 'dry',\n",
       " '<end>',\n",
       " '<pad>',\n",
       " '<pad>',\n",
       " '<pad>',\n",
       " '<pad>',\n",
       " '<pad>',\n",
       " '<pad>',\n",
       " '<pad>',\n",
       " '<pad>',\n",
       " '<pad>',\n",
       " '<pad>',\n",
       " '<pad>',\n",
       " '<pad>',\n",
       " '<pad>',\n",
       " '<pad>',\n",
       " '<pad>',\n",
       " '<pad>']"
      ]
     },
     "execution_count": 22,
     "metadata": {},
     "output_type": "execute_result"
    }
   ],
   "source": [
    "[tokenizer.index_word[i] for i in y_train[1]]"
>>>>>>> 1d31dc17c075dc0885d6b6ecce9c080224c02c59
   ]
  },
  {
   "cell_type": "code",
<<<<<<< HEAD
   "execution_count": null,
   "metadata": {},
   "outputs": [],
   "source": [
    "dataset = tf.data.Dataset.from_tensor_slices((X_train, y_train))\n",
    "#crear un objecte tf.data.Dataset a partir de X i Y train"
=======
   "execution_count": 23,
   "metadata": {},
   "outputs": [
    {
     "name": "stdout",
     "output_type": "stream",
     "text": [
      "Executing op TensorSliceDataset in device /job:localhost/replica:0/task:0/device:CPU:0\n"
     ]
    }
   ],
   "source": [
    "dataset = tf.data.Dataset.from_tensor_slices((X_train, y_train))\n"
>>>>>>> 1d31dc17c075dc0885d6b6ecce9c080224c02c59
   ]
  },
  {
   "cell_type": "code",
<<<<<<< HEAD
   "execution_count": null,
   "metadata": {},
   "outputs": [],
   "source": [
    "BUFFER_SIZE = len(X_train) #especificar el tamany del bufer\n",
    "BATCH_SIZE = 64 #especificar el tamany del batch\n",
    "NUM_STEPS = BUFFER_SIZE // BATCH_SIZE #numero de pasos d'entrenament\n",
=======
   "execution_count": 24,
   "metadata": {},
   "outputs": [
    {
     "name": "stdout",
     "output_type": "stream",
     "text": [
      "Executing op ShuffleDataset in device /job:localhost/replica:0/task:0/device:CPU:0\n",
      "Executing op BatchDatasetV2 in device /job:localhost/replica:0/task:0/device:CPU:0\n",
      "Executing op PrefetchDataset in device /job:localhost/replica:0/task:0/device:CPU:0\n"
     ]
    }
   ],
   "source": [
    "BUFFER_SIZE = len(X_train)\n",
    "BATCH_SIZE = 64\n",
    "NUM_STEPS = BUFFER_SIZE // BATCH_SIZE\n",
>>>>>>> 1d31dc17c075dc0885d6b6ecce9c080224c02c59
    "\n",
    "# Shuffle and batch\n",
    "dataset = dataset.shuffle(BUFFER_SIZE).batch(BATCH_SIZE)\n",
    "\n",
    "# Using prefetching: https://www.tensorflow.org/guide/data_performance#prefetching\n",
    "dataset = dataset.prefetch(buffer_size=tf.data.experimental.AUTOTUNE)"
   ]
  },
  {
   "cell_type": "code",
<<<<<<< HEAD
   "execution_count": null,
=======
   "execution_count": 25,
>>>>>>> 1d31dc17c075dc0885d6b6ecce9c080224c02c59
   "metadata": {},
   "outputs": [],
   "source": [
    "class CNN_Encoder(tf.keras.Model):\n",
    "    # Since you have already extracted the features and dumped it using pickle\n",
    "    # This encoder passes those features through a Fully connected layer\n",
    "    def __init__(self, embedding_dim):\n",
    "        super(CNN_Encoder, self).__init__()\n",
    "        # shape after fc == (batch_size, 64, embedding_dim)\n",
<<<<<<< HEAD
    "        self.flat = tf.keras.layers.Flatten() #aplanar una entrada de dades multidimensionals\n",
    "        self.fc = tf.keras.layers.Dense(embedding_dim) #, activation='relu') #una capa completament connectada, que s'utilitza per transformar una entrada de una dimensio a una altre\n",
=======
    "        self.flat = tf.keras.layers.Flatten()\n",
    "        self.fc = tf.keras.layers.Dense(embedding_dim) #, activation='relu')\n",
>>>>>>> 1d31dc17c075dc0885d6b6ecce9c080224c02c59
    "\n",
    "    def call(self, x):\n",
    "        x = self.flat(x)\n",
    "        x = self.fc(x)\n",
    "        return x"
   ]
  },
  {
   "cell_type": "code",
<<<<<<< HEAD
   "execution_count": null,
=======
   "execution_count": 26,
>>>>>>> 1d31dc17c075dc0885d6b6ecce9c080224c02c59
   "metadata": {},
   "outputs": [],
   "source": [
    "class RNN_Decoder(tf.keras.Model):\n",
    "    def __init__(self, embedding_dim, units, vocab_size):\n",
    "        super(RNN_Decoder, self).__init__()\n",
    "        self.units = units\n",
    "\n",
    "        # input_dim = size of the vocabulary\n",
    "        # Define the embedding layer to transform the input caption sequence\n",
    "        self.embedding = tf.keras.layers.Embedding(vocab_size, embedding_dim)\n",
    "\n",
    "        # Define the Long Short Term Memory layer to predict the next words in the sequence \n",
    "        self.lstm = tf.keras.layers.LSTM(self.units, return_sequences=True, return_state=True)\n",
    "            \n",
    "        # Define a dense layer to transform the LSTM output into prediction of the best word\n",
    "        self.fc = tf.keras.layers.Dense(vocab_size) #, activation='softmax')\n",
    "\n",
    "    # A function that transforms the input embeddings and passes them to the LSTM layer \n",
    "    def call(self, captions, features, omit_features = False, initial_state = None, verbose = False):\n",
    "        if verbose:\n",
    "            print(\"Before embedding\")\n",
    "            print(captions.shape)\n",
    "\n",
    "        embed = self.embedding(captions) #(batch_size, 1, embedding_dim)\n",
    "\n",
    "        if verbose:\n",
    "            print(\"Embed\")\n",
    "            print(embed.shape)\n",
    "\n",
<<<<<<< HEAD
    "        features = tf.expand_dims(features, 1) #expandir les dimensions del tensor, 1 mes.\n",
=======
    "        features = tf.expand_dims(features, 1)\n",
>>>>>>> 1d31dc17c075dc0885d6b6ecce9c080224c02c59
    "        \n",
    "        if verbose:\n",
    "            print(\"Features\")\n",
    "            print(features.shape)\n",
    "        \n",
    "        # Concatenating the image and caption embeddings before providing them to LSTM\n",
    "        # shape == (batch_size, 1, embedding_dim + hidden_size)\n",
    "        lstm_input = tf.concat([features, embed], axis=-2) if (omit_features == False) else embed\n",
    "        \n",
    "        if verbose:\n",
    "            print(\"LSTM input\")\n",
    "            print(lstm_input.shape)\n",
    "\n",
    "        # Passing the concatenated vector to the LSTM\n",
    "        output, memory_state, carry_state = self.lstm(lstm_input, initial_state=initial_state)\n",
    "\n",
    "        if verbose:\n",
    "            print(\"LSTM output\")\n",
    "            print(output.shape)\n",
    "\n",
    "        # Transform LSTM output units to vocab_size\n",
    "        output = self.fc(output)\n",
    "\n",
    "        return output, memory_state, carry_state\n",
    "\n",
    "    def reset_state(self, batch_size):\n",
<<<<<<< HEAD
    "        return tf.zeros((batch_size, self.units)) # crea un tensor de forma (batch_size, self.units), inicialitzant tot  a 0."
=======
    "        return tf.zeros((batch_size, self.units))"
>>>>>>> 1d31dc17c075dc0885d6b6ecce9c080224c02c59
   ]
  },
  {
   "cell_type": "code",
<<<<<<< HEAD
   "execution_count": null,
=======
   "execution_count": 27,
>>>>>>> 1d31dc17c075dc0885d6b6ecce9c080224c02c59
   "metadata": {},
   "outputs": [],
   "source": [
    "units = embedding_dim = 512 # As in the paper\n",
<<<<<<< HEAD
    "vocab_size = min(top_k + 1, len(tokenizer.word_index.keys())) #limitar el numero de paraules que s'utilitzen per entrenar el model\n",
    "\n",
    "# Initialize encoder and decoder\n",
    "encoder = CNN_Encoder(embedding_dim) #capa de red neuronal convolucional utilitzada per extreure caracteristiques d'una imatge\n",
    "decoder = RNN_Decoder(embedding_dim, units, vocab_size) #es una classe que defineix una red neuronal recurrent utilitzada per generear subtitul a partir de les cracteristiques de imatges extretes per el encoder\n",
=======
    "vocab_size = min(top_k + 1, len(tokenizer.word_index.keys()))\n",
    "\n",
    "# Initialize encoder and decoder\n",
    "encoder = CNN_Encoder(embedding_dim)\n",
    "decoder = RNN_Decoder(embedding_dim, units, vocab_size)\n",
>>>>>>> 1d31dc17c075dc0885d6b6ecce9c080224c02c59
    "\n",
    "# Initialize optimizer\n",
    "optimizer = tf.keras.optimizers.Adam()\n",
    "\n",
    "# As the label is not one-hot encoded but indices. Logits as they are not probabilities.\n",
    "loss_object = tf.keras.losses.SparseCategoricalCrossentropy(from_logits=True, reduction='none')\n",
    "\n",
    "# Computes the loss using SCCE and calculates the average of singular losses in the tensor\n",
    "def loss_function(real, pred, verbose=False):\n",
<<<<<<< HEAD
    "    loss_ = loss_object(real, pred) #calcula la perduda entra la real i la predita\n",
=======
    "    loss_ = loss_object(real, pred)\n",
>>>>>>> 1d31dc17c075dc0885d6b6ecce9c080224c02c59
    "    \n",
    "    if verbose:\n",
    "        print(\"Loss\")\n",
    "        print(loss_)\n",
    "    \n",
<<<<<<< HEAD
    "    loss_ = tf.reduce_mean(loss_, axis = 1) #calcula la mitja entre els elements al llarg de un eix especific de un tensor.\n",
=======
    "    loss_ = tf.reduce_mean(loss_, axis = 1)\n",
>>>>>>> 1d31dc17c075dc0885d6b6ecce9c080224c02c59
    "        \n",
    "    if verbose:\n",
    "        print(\"After Mean Axis 1\")    \n",
    "        print(loss_)\n",
    "\n",
    "    return loss_\n",
    "# Key Point: Any Python side-effects (appending to a list, printing with print, etc) will only happen once, when func is traced. \n",
    "# To have side-effects executed into your tf.function they need to be written as TF ops:\n",
    "@tf.function\n",
    "def train_step(img_tensor, target, verbose=False):    \n",
    "    if verbose:\n",
    "        print(\"Image tensor\")\n",
    "        print(img_tensor.shape)\n",
    "\n",
    "        print(\"Target\")\n",
    "        print(target.shape)    \n",
    "\n",
    "    # The input would be each set of words without the last one (<end>), to leave space for the first one that\n",
    "    # would be the image embedding\n",
    "    dec_input = tf.convert_to_tensor(target[:, :-1])\n",
    "\n",
    "    # Source: https://www.tensorflow.org/api_docs/python/tf/GradientTape\n",
<<<<<<< HEAD
    "    with tf.GradientTape() as tape: #tf.GradientTape() calcul automatic de gradients\n",
=======
    "    with tf.GradientTape() as tape:\n",
>>>>>>> 1d31dc17c075dc0885d6b6ecce9c080224c02c59
    "        features = encoder(img_tensor)\n",
    "        \n",
    "        if verbose:\n",
    "            print(\"Features CNN\")\n",
    "            print(features)\n",
    "            \n",
<<<<<<< HEAD
    "        predictions, _, _ = decoder(dec_input, features, verbose=verbose) #instancia de RNN_Decoder, realitza una inferencia cap endevant       \n",
=======
    "        predictions, _, _ = decoder(dec_input, features, verbose=verbose)        \n",
>>>>>>> 1d31dc17c075dc0885d6b6ecce9c080224c02c59
    "        \n",
    "        if verbose:\n",
    "            print(\"Predictions RNN\")\n",
    "            print(predictions)\n",
    "        \n",
    "        caption_loss = loss_function(target, predictions) # (batch_size, )\n",
    "\n",
    "        # After tape\n",
    "        total_batch_loss = tf.reduce_sum(caption_loss) # Sum (batch_size, ) => K\n",
    "        mean_batch_loss = tf.reduce_mean(caption_loss) # Mean(batch_size, ) => K\n",
    "\n",
    "    # Updated the variables\n",
    "    trainable_variables = encoder.trainable_variables + decoder.trainable_variables\n",
<<<<<<< HEAD
    "    gradients = tape.gradient(caption_loss, trainable_variables) #calcular els gradient de les variables entrenables, a la perduda utilitzant la diferenciacio automatica\n",
    "    optimizer.apply_gradients(zip(gradients, trainable_variables)) # aplica els gradients calculats a les variables entrenables del model\n",
=======
    "    gradients = tape.gradient(caption_loss, trainable_variables)\n",
    "    optimizer.apply_gradients(zip(gradients, trainable_variables))\n",
>>>>>>> 1d31dc17c075dc0885d6b6ecce9c080224c02c59
    "\n",
    "    return total_batch_loss, mean_batch_loss"
   ]
  },
  {
   "cell_type": "code",
<<<<<<< HEAD
   "execution_count": null,
   "metadata": {},
   "outputs": [],
   "source": [
    "checkpoint_path = \"./checkpoints/train\" #path de chechpoint\n",
    "ckpt = tf.train.Checkpoint(encoder=encoder,\n",
    "                           decoder=decoder,\n",
    "                           optimizer = optimizer) #guardar i carregar els pesos del model\n",
    "ckpt_manager = tf.train.CheckpointManager(ckpt, checkpoint_path, max_to_keep=5) #administra punts de control de tensorflow"
=======
   "execution_count": 28,
   "metadata": {},
   "outputs": [],
   "source": [
    "checkpoint_path = \"./checkpoints/train\"\n",
    "ckpt = tf.train.Checkpoint(encoder=encoder,\n",
    "                           decoder=decoder,\n",
    "                           optimizer = optimizer)\n",
    "ckpt_manager = tf.train.CheckpointManager(ckpt, checkpoint_path, max_to_keep=5)"
>>>>>>> 1d31dc17c075dc0885d6b6ecce9c080224c02c59
   ]
  },
  {
   "cell_type": "code",
<<<<<<< HEAD
   "execution_count": null,
   "metadata": {},
   "outputs": [],
   "source": [
    "start_epoch = 0 #la primera epoca es el 0\n",
    "if ckpt_manager.latest_checkpoint: #agafar el ultim checkpoint\n",
    "    start_epoch = int(ckpt_manager.latest_checkpoint.split('-')[-1]) #agafa el numero del ultim punt de control guardat.\n",
=======
   "execution_count": 29,
   "metadata": {},
   "outputs": [],
   "source": [
    "start_epoch = 0\n",
    "if ckpt_manager.latest_checkpoint:\n",
    "    start_epoch = int(ckpt_manager.latest_checkpoint.split('-')[-1])\n",
>>>>>>> 1d31dc17c075dc0885d6b6ecce9c080224c02c59
    "    # restoring the latest checkpoint in checkpoint_path\n",
    "    ckpt.restore(ckpt_manager.latest_checkpoint)"
   ]
  },
  {
   "cell_type": "code",
<<<<<<< HEAD
   "execution_count": null,
   "metadata": {},
   "outputs": [],
=======
   "execution_count": 35,
   "metadata": {},
   "outputs": [
    {
     "name": "stdout",
     "output_type": "stream",
     "text": [
      "Epoch 1 Batch 0 Batch Loss 1.2709\n",
      "Total Loss 4106.202148\n",
      "Epoch 1 Epoch Loss 82.124039\n",
      "Time taken for 1 epoch 26.382844924926758 sec\n",
      "\n",
      "Epoch 2 Batch 0 Batch Loss 1.2226\n",
      "Total Loss 3959.110596\n",
      "Epoch 2 Epoch Loss 79.182213\n",
      "Time taken for 1 epoch 25.161064386367798 sec\n",
      "\n",
      "Epoch 3 Batch 0 Batch Loss 1.1816\n",
      "Total Loss 3825.386963\n",
      "Epoch 3 Epoch Loss 76.507736\n",
      "Time taken for 1 epoch 24.42795729637146 sec\n",
      "\n",
      "Epoch 4 Batch 0 Batch Loss 1.1469\n",
      "Total Loss 3708.736328\n",
      "Epoch 4 Epoch Loss 74.174728\n",
      "Time taken for 1 epoch 24.3795804977417 sec\n",
      "\n",
      "Epoch 5 Batch 0 Batch Loss 1.1156\n",
      "Total Loss 3601.608887\n",
      "Epoch 5 Epoch Loss 72.032173\n",
      "Time taken for 1 epoch 24.36685848236084 sec\n",
      "\n",
      "Epoch 6 Batch 0 Batch Loss 1.0888\n",
      "Total Loss 3504.413818\n",
      "Epoch 6 Epoch Loss 70.088272\n",
      "Time taken for 1 epoch 24.777776956558228 sec\n",
      "\n",
      "Epoch 7 Batch 0 Batch Loss 1.0658\n",
      "Total Loss 3416.806152\n",
      "Epoch 7 Epoch Loss 68.336121\n",
      "Time taken for 1 epoch 24.71804141998291 sec\n",
      "\n",
      "Epoch 8 Batch 0 Batch Loss 1.0373\n",
      "Total Loss 3321.884033\n",
      "Epoch 8 Epoch Loss 66.437675\n",
      "Time taken for 1 epoch 34.19729423522949 sec\n",
      "\n",
      "Epoch 9 Batch 0 Batch Loss 1.0100\n",
      "Total Loss 3226.869141\n",
      "Epoch 9 Epoch Loss 64.537384\n",
      "Time taken for 1 epoch 24.335135459899902 sec\n",
      "\n",
      "Epoch 10 Batch 0 Batch Loss 0.9843\n",
      "Total Loss 3140.249512\n",
      "Epoch 10 Epoch Loss 62.804989\n",
      "Time taken for 1 epoch 24.438978910446167 sec\n",
      "\n",
      "Epoch 11 Batch 0 Batch Loss 0.9585\n",
      "Total Loss 3057.664551\n",
      "Epoch 11 Epoch Loss 61.153290\n",
      "Time taken for 1 epoch 24.867048025131226 sec\n",
      "\n",
      "Epoch 12 Batch 0 Batch Loss 0.9314\n",
      "Total Loss 2976.812744\n",
      "Epoch 12 Epoch Loss 59.536255\n",
      "Time taken for 1 epoch 24.43038272857666 sec\n",
      "\n",
      "Epoch 13 Batch 0 Batch Loss 0.9084\n",
      "Total Loss 2900.399902\n",
      "Epoch 13 Epoch Loss 58.007996\n",
      "Time taken for 1 epoch 25.663649559020996 sec\n",
      "\n",
      "Epoch 14 Batch 0 Batch Loss 0.8858\n",
      "Total Loss 2827.728516\n",
      "Epoch 14 Epoch Loss 56.554569\n",
      "Time taken for 1 epoch 24.394787549972534 sec\n",
      "\n",
      "Epoch 15 Batch 0 Batch Loss 0.8646\n",
      "Total Loss 2756.529541\n",
      "Epoch 15 Epoch Loss 55.130589\n",
      "Time taken for 1 epoch 24.57510280609131 sec\n",
      "\n",
      "Epoch 16 Batch 0 Batch Loss 0.8469\n",
      "Total Loss 2689.331299\n",
      "Epoch 16 Epoch Loss 53.786625\n",
      "Time taken for 1 epoch 34.58067178726196 sec\n",
      "\n",
      "Epoch 17 Batch 0 Batch Loss 0.8243\n",
      "Total Loss 2628.704590\n",
      "Epoch 17 Epoch Loss 52.574089\n",
      "Time taken for 1 epoch 25.245671033859253 sec\n",
      "\n",
      "Epoch 18 Batch 0 Batch Loss 0.8013\n",
      "Total Loss 2560.988281\n",
      "Epoch 18 Epoch Loss 51.219765\n",
      "Time taken for 1 epoch 24.594252824783325 sec\n",
      "\n",
      "Epoch 19 Batch 0 Batch Loss 0.7829\n",
      "Total Loss 2488.033691\n",
      "Epoch 19 Epoch Loss 49.760674\n",
      "Time taken for 1 epoch 24.56499171257019 sec\n",
      "\n",
      "Epoch 20 Batch 0 Batch Loss 0.7606\n",
      "Total Loss 2421.464600\n",
      "Epoch 20 Epoch Loss 48.429291\n",
      "Time taken for 1 epoch 24.2927463054657 sec\n",
      "\n"
     ]
    }
   ],
>>>>>>> 1d31dc17c075dc0885d6b6ecce9c080224c02c59
   "source": [
    "loss_plot = []\n",
    "EPOCHS = 20\n",
    "start_epoch = 0\n",
    "\n",
    "for epoch in range(start_epoch, EPOCHS):\n",
    "    real_epoch = len(loss_plot) + 1\n",
    "    start = time()\n",
    "    total_loss = 0\n",
    "\n",
    "    for (batch, (img_tensor, target)) in enumerate(dataset):\n",
<<<<<<< HEAD
    "        total_batch_loss, mean_batch_loss = train_step(img_tensor, target, verbose=False) #es una funcio que executa un pas d'entrenament en un batch de imatges\n",
=======
    "        total_batch_loss, mean_batch_loss = train_step(img_tensor, target, verbose=False)\n",
>>>>>>> 1d31dc17c075dc0885d6b6ecce9c080224c02c59
    "        total_loss += total_batch_loss\n",
    "\n",
    "        if batch % 100 == 0:\n",
    "            print ('Epoch {} Batch {} Batch Loss {:.4f}'.format(real_epoch, batch, mean_batch_loss.numpy()))\n",
    "    \n",
    "    print ('Total Loss {:.6f}'.format(total_loss))\n",
    "    epoch_loss = total_loss / NUM_STEPS\n",
    "    \n",
    "    # storing the epoch end loss value to plot later\n",
    "    loss_plot.append(epoch_loss)\n",
    "\n",
    "    if epoch % 5 == 0:\n",
    "        ckpt_manager.save()\n",
    "\n",
    "    print ('Epoch {} Epoch Loss {:.6f}'.format(real_epoch, epoch_loss))\n",
    "    print ('Time taken for 1 epoch {} sec\\n'.format(time() - start))"
   ]
  },
  {
   "cell_type": "code",
<<<<<<< HEAD
   "execution_count": null,
   "metadata": {},
   "outputs": [],
   "source": [
    "plt.plot(loss_plot) #ensenya la loss\n",
    "plt.xlabel('Epochs') #label de x\n",
    "plt.ylabel('Loss') #label de y\n",
    "plt.title('Loss Plot') #label de title\n",
    "plt.show() #mostrarho"
=======
   "execution_count": 36,
   "metadata": {},
   "outputs": [
    {
     "data": {
      "image/png": "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",
      "text/plain": [
       "<Figure size 432x288 with 1 Axes>"
      ]
     },
     "metadata": {
      "needs_background": "light"
     },
     "output_type": "display_data"
    }
   ],
   "source": [
    "plt.plot(loss_plot)\n",
    "plt.xlabel('Epochs')\n",
    "plt.ylabel('Loss')\n",
    "plt.title('Loss Plot')\n",
    "plt.show()"
>>>>>>> 1d31dc17c075dc0885d6b6ecce9c080224c02c59
   ]
  },
  {
   "cell_type": "code",
<<<<<<< HEAD
   "execution_count": null,
=======
   "execution_count": 37,
>>>>>>> 1d31dc17c075dc0885d6b6ecce9c080224c02c59
   "metadata": {},
   "outputs": [],
   "source": [
    "def clean_caption(caption):\n",
<<<<<<< HEAD
    "    return [item for item in caption if item not in ['<start>', '<end>', '<pad>']]\n",
    "\n",
    "#aquesta funcio rep una llista de paraules que representa una oracio de una imatge i elimina el tokends start,end,pad, \n",
    "#que son els que utilitza el model per indica inici i fi de la oracio i la llargada.\n",
    "# de forma que retorna una oracio."
=======
    "    return [item for item in caption if item not in ['<start>', '<end>', '<pad>']]"
>>>>>>> 1d31dc17c075dc0885d6b6ecce9c080224c02c59
   ]
  },
  {
   "cell_type": "code",
<<<<<<< HEAD
   "execution_count": null,
   "metadata": {},
   "outputs": [],
   "source": [
    "test_img_name = random.choice(image_filenames_train) # selecciona aleatoriament un elemnt de una llista. En aquest cas agafar una imatge al atzar."
=======
   "execution_count": 38,
   "metadata": {},
   "outputs": [],
   "source": [
    "test_img_name = random.choice(image_filenames_train)"
>>>>>>> 1d31dc17c075dc0885d6b6ecce9c080224c02c59
   ]
  },
  {
   "cell_type": "code",
<<<<<<< HEAD
   "execution_count": null,
   "metadata": {},
   "outputs": [],
=======
   "execution_count": 39,
   "metadata": {},
   "outputs": [
    {
     "name": "stderr",
     "output_type": "stream",
     "text": [
      "Clipping input data to the valid range for imshow with RGB data ([0..1] for floats or [0..255] for integers).\n"
     ]
    },
    {
     "name": "stdout",
     "output_type": "stream",
     "text": [
      "Real captions\n",
      "<start> Two brownish dogs are fighting . <end>\n",
      "<start> Two dogs are fighting on brick pavement . <end>\n",
      "<start> two dogs playing with each other <end>\n",
      "<start> Two light golden colored dogs playfully wrestle together on the brick area . <end>\n",
      "<start> Two pale brown dogs tussling on paved ground . <end>\n",
      "Esimated caption\n",
      "['a', 'man', 'and', 'a', 'woman', 'sitting', 'on', 'a', 'dock']\n"
     ]
    },
    {
     "data": {
      "image/png": "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",
      "text/plain": [
       "<Figure size 432x288 with 1 Axes>"
      ]
     },
     "metadata": {
      "needs_background": "light"
     },
     "output_type": "display_data"
    }
   ],
>>>>>>> 1d31dc17c075dc0885d6b6ecce9c080224c02c59
   "source": [
    "# Get captions from a test image\n",
    "def get_caption(img):    \n",
    "    # Add image to an array to simulate batch size of 1    \n",
    "    features = encoder(tf.expand_dims(img, 0))\n",
    "    \n",
    "    caption = []\n",
<<<<<<< HEAD
    "    dec_input = tf.expand_dims([], 0) #crear un tensor 1D buit i l'exte a 2D\n",
=======
    "    dec_input = tf.expand_dims([], 0)\n",
>>>>>>> 1d31dc17c075dc0885d6b6ecce9c080224c02c59
    "    \n",
    "     # Inputs the image embedding into the trained LSTM layer and predicts the first word of the sequence.\n",
    "    # The output, hidden and cell states are passed again to the LSTM to generate the next word.\n",
    "    # The iteration is repeated until the caption does not reach the max length.\n",
    "    state = None\n",
    "    for i in range(1, max_caption_length):\n",
    "        predictions, memory_state, carry_state = \\\n",
<<<<<<< HEAD
    "            decoder(dec_input, features, omit_features=i > 1, initial_state=state) #s'executa el decder per generar la predicio següent i els estat de memoria i celda.\n",
=======
    "            decoder(dec_input, features, omit_features=i > 1, initial_state=state)\n",
>>>>>>> 1d31dc17c075dc0885d6b6ecce9c080224c02c59
    "\n",
    "        # Takes maximum index of predictions\n",
    "        word_index = np.argmax(predictions.numpy().flatten())\n",
    "\n",
    "        caption.append(tokenizer.index_word[word_index])\n",
    "\n",
<<<<<<< HEAD
    "        dec_input = tf.expand_dims([word_index], 0)  #afegeix una dimensio mes a word_index     \n",
=======
    "        dec_input = tf.expand_dims([word_index], 0)       \n",
>>>>>>> 1d31dc17c075dc0885d6b6ecce9c080224c02c59
    "        state = [memory_state, carry_state]\n",
    "    \n",
    "    # Filter caption\n",
    "    return clean_caption(caption)\n",
    "\n",
<<<<<<< HEAD
    "raw_img = load_image(test_img_name)[0] #es una funcio que retorna una imatge en forma de tensor\n",
    "img = images_dict[test_img_name] #value de test_img_name\n",
    "captions = images_captions_dict[test_img_name] #value de test_img_name\n",
    "\n",
    "plt.imshow(raw_img) #mostra la imatge\n",
    "\n",
    "print(\"Real captions\")\n",
    "for caption in captions: #mostra totes les captions d'aquella imatge\n",
    "    print(caption)\n",
    "\n",
    "print(\"Esimated caption\")\n",
    "estimated_caption = get_caption(img) #et va mostrant les oracions de cada imatge\n",
=======
    "raw_img = load_image(test_img_name)[0]\n",
    "img = images_dict[test_img_name]\n",
    "captions = images_captions_dict[test_img_name]\n",
    "\n",
    "plt.imshow(raw_img)\n",
    "\n",
    "print(\"Real captions\")\n",
    "for caption in captions:\n",
    "    print(caption)\n",
    "\n",
    "print(\"Esimated caption\")\n",
    "estimated_caption = get_caption(img)\n",
>>>>>>> 1d31dc17c075dc0885d6b6ecce9c080224c02c59
    "print(estimated_caption)"
   ]
  }
 ],
 "metadata": {
  "kernelspec": {
   "display_name": "directml",
   "language": "python",
   "name": "python3"
  },
  "language_info": {
   "codemirror_mode": {
    "name": "ipython",
    "version": 3
   },
   "file_extension": ".py",
   "mimetype": "text/x-python",
   "name": "python",
   "nbconvert_exporter": "python",
   "pygments_lexer": "ipython3",
<<<<<<< HEAD
   "version": "3.8.5"
=======
   "version": "3.6.13"
>>>>>>> 1d31dc17c075dc0885d6b6ecce9c080224c02c59
  },
  "orig_nbformat": 4
 },
 "nbformat": 4,
 "nbformat_minor": 2
}
